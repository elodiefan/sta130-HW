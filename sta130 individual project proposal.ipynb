{
 "cells": [
  {
   "cell_type": "markdown",
   "id": "dc8157df",
   "metadata": {},
   "source": [
    "# Individual Project Proposal - STA130F"
   ]
  },
  {
   "cell_type": "markdown",
   "id": "716b4597",
   "metadata": {},
   "source": [
    "## Project: Social Connection and Community Engagement Analysis"
   ]
  },
  {
   "cell_type": "markdown",
   "id": "7db286fb",
   "metadata": {},
   "source": [
    "## Analysis 1: Association Between Social Support and Mental Health"
   ]
  },
  {
   "cell_type": "markdown",
   "id": "22f999c1",
   "metadata": {},
   "source": [
    "**1. Research Question**: Does increased social support correlate with improved mental health outcomes?\n",
    "\n",
    "This question aims to investigate the relationship between self-reported levels of social support and mental health indicators, such as stress or happiness levels, in order to assess the impact of social connections on mental well-being."
   ]
  },
  {
   "cell_type": "markdown",
   "id": "45b7b27f",
   "metadata": {},
   "source": [
    "**2. Variables and Exploration**: \n",
    "1. `PSYCH_zimet_multidimensional_social_support_scale`\n",
    "    - Responses measuring perceived social support from friends, family, or community. \n",
    "    - Social support is chosen because of its well-documented role in mental health, providing a basis for understanding how external support systems can buffer against stress and improve mood and mental resilience.\n",
    "        - e.x.: `PSYCH_zimet_multidimensional_social_support_scale_need`, `PSYCH_zimet_multidimensional_social_support_scale_joys`, `PSYCH_zimet_multidimensional_social_support_scale_family_helps`, `PSYCH_zimet_multidimensional_social_support_scale_comfort`\n",
    "    - **Histogram**: A histogram of social support levels can show the distribution across participants, revealing if there are patterns (e.g., most participants report moderate support). This helps in understanding whether social support levels are skewed or symmetrically distributed, which is useful for interpreting correlations.\n",
    "        \n",
    "2. `WELLNESS_self_rated_mental_health`\n",
    "    - Self-reported measures of mental health, including stress levels, happiness, or anxiety scores.\n",
    "    - They are chosen because they are direct indicators of an individual's mental well-being, allowing for a clear view of the potential psychological benefits of social support.\n",
    "    - **Box Plot**: A box plot of mental health scores (e.g., stress, happiness) provides a clear summary of key statistical features, such as median scores and the presence of any outliers. This helps in identifying the range and variation in mental health indicators across participants.\n",
    "       "
   ]
  },
  {
   "cell_type": "markdown",
   "id": "56ef930f",
   "metadata": {},
   "source": [
    "**3. Exploration Approach:**\n",
    "- Descriptive statistics (e.g., means, standard deviations) will summarize these variables, and scatter plots will visualize any patterns between levels of social support and mental health scores, helping reveal trends or associations.\n",
    "- Exploratory Visualization Between Variables\n",
    "    - **Scatter Plot**: A scatter plot of social support versus mental health scores allows for an immediate visual of any trend between these two variables, showing whether higher social support levels correlate with improved mental health outcomes. This visualization directly supports the planned correlation analysis."
   ]
  },
  {
   "cell_type": "markdown",
   "id": "ec9c1215",
   "metadata": {},
   "source": [
    "**4. Planned Analysis**\n",
    "- A correlation analysis (e.g., Pearson’s correlation coefficient) will measure the strength and direction of the association between social support and mental health. This approach assumes that mental health scores vary linearly with social support levels.\n",
    "- Assumptions:\n",
    "    1. **Linearity**: We assume that if there is any relationship between social support and mental health, it would be linear. This assumption is necessary for using Pearson’s correlation coefficient to detect an association (if it exists), whether positive or negative.\n",
    "    2. **Independence of Observations**: Each individual's data on social support and mental health is assumed to be independent of others. Independence is critical to ensure that observations are not influenced by shared factors among participants.\n",
    "    3. **Measurement Consistency**: Self-reported measures of social support and mental health are assumed to be accurate reflections of participants’ experiences, with minimal bias. This consistency is important to ensure that any detected correlation (or lack thereof) is based on reliable data.\n"
   ]
  },
  {
   "cell_type": "markdown",
   "id": "253244e1",
   "metadata": {},
   "source": [
    "**5. Hypothesis**\n",
    "- Null Hypothesis: There is no association between levels of social support and mental health outcomes. Specifically, variations in social support levels are not associated with any changes in mental health indicators such as stress, happiness, or anxiety.\n",
    "- Relevance: Testing this hypothesis will help determine if social support influences mental health outcomes. If we reject the null hypothesis, it would imply that social support plays a measurable role in mental well-being. This result would directly answer the research question by confirming (or refuting) the idea that increasing social connections may improve mental health."
   ]
  },
  {
   "cell_type": "markdown",
   "id": "63aef9eb",
   "metadata": {},
   "source": [
    "## Analysis 2: Community Engagement Frequency and Physical Health Outcomes"
   ]
  },
  {
   "cell_type": "markdown",
   "id": "597af53a",
   "metadata": {},
   "source": [
    "**1. Research Question**: Is frequent community engagement associated with better physical health outcomes?\n",
    "- This question focuses on the possible link between community engagement and physical health, hypothesizing that those who engage in community activities more often may experience better health."
   ]
  },
  {
   "cell_type": "markdown",
   "id": "61262db8",
   "metadata": {},
   "source": [
    "**2. Variables and Exploration**: \n",
    "1. `CONNECTION_community_involvement`\n",
    "    - This variable measures the frequency of participation in activities such as volunteering or social events. \n",
    "    - It is selected because engagement with one’s community has been shown to promote well-being by fostering a sense of purpose and connectedness, which may have physical health benefits.\n",
    "        - e.x.: `CONNECTION_community_involvement_sports_p3m`, `CONNECTION_community_involvement_hobby_p3m`, `CONNECTION_community_involvement_service_p3m`\n",
    "    - **Bar Plot**: A bar plot showing the frequency of community engagement activities allows for quick visualization of how many participants fall into each engagement category (e.g., low, medium, high). This helps in assessing whether there’s a balanced sample across engagement levels or if some groups are over/underrepresented.\n",
    "        \n",
    "2. `WELLNESS_self_rated_physical_health`\n",
    "    - Self-rated health status or frequency of illness is included as a measure of physical health, as it provides a practical and widely used indicator of physical well-being that can reflect general health status in relation to social factors.\n",
    "    - **Histogram**: A histogram of physical health scores (e.g., self-rated health or illness frequency) can show the distribution and help assess the normality assumption for t-tests or ANOVA. It reveals if most participants have similar health scores or if scores vary widely."
   ]
  },
  {
   "cell_type": "markdown",
   "id": "5d89ab28",
   "metadata": {},
   "source": [
    "**3. Exploration Approach**\n",
    "- Descriptive statistics will be used to summarize each group, while a bar plot or histogram will illustrate the distribution of physical health scores across different frequencies of community engagement.\n",
    "- Exploratory Visualization Between Variables\n",
    "    - **Grouped Box Plot**: A grouped box plot of physical health scores across engagement levels provides a clear comparison between the health outcomes of participants in different community engagement categories. This visualization is ideal for seeing trends or differences that support the planned comparison of means."
   ]
  },
  {
   "cell_type": "markdown",
   "id": "cf44372d",
   "metadata": {},
   "source": [
    "**4. Planned Analysis**\n",
    "- A comparison of means (e.g., t-test or ANOVA) will assess differences in physical health outcomes between groups with varying levels of engagement. \n",
    "- This analysis will assume that physical health varies with engagement level in a measurable and comparable way.\n",
    "\n",
    "Assumptions:\n",
    "  1. **Group Comparability**: Individuals in different community engagement groups are assumed to be comparable aside from their engagement levels. Any existing differences in physical health outcomes across groups should ideally be due to engagement frequency, not confounding factors like healthcare access or socioeconomic status.\n",
    "  2. **Independent Observations**: Each participant’s physical health outcome is assumed to be independent, meaning one participant’s health does not directly influence another’s.\n",
    "  3. **Normal Distribution (for ANOVA)**: If using an ANOVA, physical health outcomes are assumed to be normally distributed within each engagement group, or the sample size is large enough for the Central Limit Theorem to offset any deviations from normality. This is essential for accurate ANOVA results when comparing group means."
   ]
  },
  {
   "cell_type": "markdown",
   "id": "db25ae7a",
   "metadata": {},
   "source": [
    "**5. Hypothesis**\n",
    "- Null Hypothesis: The frequency of community engagement has no effect on physical health outcomes. Physical health does not significantly differ across groups with varying levels of community engagement frequency.\n",
    "- Relevance: This hypothesis test will indicate whether community engagement frequency is associated with physical health benefits. Rejecting the null hypothesis would suggest that more frequent community involvement is linked to better physical health outcomes. This would provide evidence for the research question, showing if community engagement could be a practical approach to promoting physical health."
   ]
  },
  {
   "cell_type": "markdown",
   "id": "88901d1a",
   "metadata": {},
   "source": [
    "## Analysis 3: Impact of Loneliness on Well-Being Across Age Groups"
   ]
  },
  {
   "cell_type": "markdown",
   "id": "89af9b47",
   "metadata": {},
   "source": [
    "**1. Research Question**: How does the impact of loneliness on well-being vary across different age groups?\n",
    "\n",
    "This analysis will explore whether and how loneliness affects well-being differently among younger, middle-aged, and older adults."
   ]
  },
  {
   "cell_type": "markdown",
   "id": "958338cd",
   "metadata": {},
   "source": [
    "**2. Variables and Exploration**\n",
    "1. `LONELY_dejong_emotional_social_loneliness_scale`\n",
    "    - Self-reported levels of loneliness or social isolation are chosen because loneliness is an established risk factor for decreased well-being, with effects that can vary significantly based on the individual's age and social environment. \n",
    "        - e.x.: `LONELY_dejong_emotional_social_loneliness_scale_trust`, `LONELY_dejong_emotional_social_loneliness_scale_rely`, `LONELY_dejong_emotional_social_loneliness_scale_miss`\n",
    "    - **Density Plot**: A density plot for loneliness levels illustrates how loneliness is distributed across the sample, revealing if most participants experience low or high loneliness. This visualization can help identify patterns that might differ across age groups.\n",
    "        \n",
    "2. `WELLNESS_subjective_happiness_scale`\n",
    "    - Self-reported life satisfaction or happiness scores are selected as general indicators of well-being, as they provide a holistic view of an individual's life quality and satisfaction.\n",
    "        - e.x.: `WELLNESS_subjective_happiness_scale_happy`, `WELLNESS_subjective_happiness_scale_never_happy`\n",
    "    - **Histogram or Density Plot**: A histogram or density plot of well-being scores (e.g., life satisfaction, happiness) provides insight into the general distribution of well-being among participants, showing if scores are skewed or vary by wide margins.\n",
    "\n",
    "3. `DEMO_age`\n",
    "    - Age is an important factor in this analysis, as studies suggest that the experience and impact of loneliness can vary widely across the life span. By categorizing age into groups (e.g., <30, 30-60, and >60), we can examine whether loneliness affects different age groups uniquely.\n",
    "    - **Stacked Bar Chart**: A stacked bar chart showing the proportion of participants in each age group who report high vs. low loneliness or well-being can highlight age-related trends in these variables."
   ]
  },
  {
   "cell_type": "markdown",
   "id": "46aa16fc",
   "metadata": {},
   "source": [
    "**3. Exploration Approach**\n",
    "- Box plots for each age group will show the distribution of well-being scores across loneliness levels, allowing for visual comparison of loneliness impacts across age groups.\n",
    "- Exploratory Visualization Between Variables\n",
    "    - **Box Plot by Age Group**: A box plot of well-being scores by age group and loneliness level provides a clear view of how loneliness impacts well-being differently across age categories. This aligns with the planned regression model and allows for a visual assessment of interaction effects, as it can show if specific age groups experience more severe impacts of loneliness on well-being."
   ]
  },
  {
   "cell_type": "markdown",
   "id": "42875be0",
   "metadata": {},
   "source": [
    "**4. Planned Analysis**\n",
    "A regression model with an interaction term between age and loneliness will examine how loneliness impacts well-being across different age groups. This approach assumes that loneliness may affect well-being differently depending on age.\n",
    "\n",
    "Assumptions:\n",
    "   1. **Interaction Assumption**: In exploring potential interactions between age and loneliness, the model assumes that if loneliness does impact well-being, this effect may vary across age groups. This assumption enables the regression model to test for differential impacts of loneliness across age categories.\n",
    "   2. **Independent Observations**: Each participant’s loneliness and well-being data is independent of others, ensuring that results are not influenced by relationships or shared factors among participants.\n",
    "   3. **Additivity and Linearity**: The model assumes an additive and linear relationship between age, loneliness, and well-being, which includes a consistent interaction effect. This assumption helps in correctly modeling the combined and interactive effects of these variables on well-being.\n",
    "   4. **Measurement Accuracy**: Self-reported scores for loneliness and well-being are assumed to be accurate and unbiased reflections of participants’ true states. This accuracy is necessary to ensure that any interaction effect found (or not found) is based on reliable data.\n",
    "\n"
   ]
  },
  {
   "cell_type": "markdown",
   "id": "5186ae2c",
   "metadata": {},
   "source": [
    "**5. Hypothesis**\n",
    "- Null Hypothesis: Loneliness has no differential impact on well-being across different age groups. Specifically, the effect of loneliness on well-being is consistent across younger, middle-aged, and older adults.\n",
    "- Relevance: By testing this hypothesis, we can explore whether loneliness impacts different age groups uniquely, as the research question suggests. If the null hypothesis is rejected, it would mean that loneliness affects well-being differently depending on age, which could guide age-specific approaches for addressing loneliness. This insight would directly answer the research question by indicating if certain age groups require tailored support to mitigate loneliness's effects on well-being."
   ]
  }
 ],
 "metadata": {
  "kernelspec": {
   "display_name": "Python 3 (ipykernel)",
   "language": "python",
   "name": "python3"
  },
  "language_info": {
   "codemirror_mode": {
    "name": "ipython",
    "version": 3
   },
   "file_extension": ".py",
   "mimetype": "text/x-python",
   "name": "python",
   "nbconvert_exporter": "python",
   "pygments_lexer": "ipython3",
   "version": "3.11.6"
  }
 },
 "nbformat": 4,
 "nbformat_minor": 5
}
